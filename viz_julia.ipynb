{
 "cells": [
  {
   "cell_type": "code",
   "execution_count": null,
   "metadata": {},
   "outputs": [],
   "source": [
    "# Pkg.add NPZ, PyPoy, Flux, Quaternions, MeshCat, CoordinateTransformations, Rotations, GeometryTypes, StaticArrays, DSP, MacroTools, StatsBase, Distributions, MultivariateStats, BSON"
   ]
  },
  {
   "cell_type": "code",
   "execution_count": 2,
   "metadata": {},
   "outputs": [],
   "source": [
    "using LinearAlgebra, Statistics, Random\n",
    "using NPZ\n",
    "using PyPlot\n",
    "using ArgCheck\n",
    "using Flux\n",
    "using ProgressMeter, Formatting "
   ]
  },
  {
   "cell_type": "code",
   "execution_count": 3,
   "metadata": {},
   "outputs": [],
   "source": [
    "using MeshCat\n",
    "using Quaternions\n",
    "using GeometryBasics\n",
    "using CoordinateTransformations"
   ]
  },
  {
   "cell_type": "code",
   "execution_count": 20,
   "metadata": {},
   "outputs": [
    {
     "name": "stderr",
     "output_type": "stream",
     "text": [
      "WARNING: replacing module mocapviz.\n"
     ]
    },
    {
     "data": {
      "text/plain": [
       "Main.mocapviz"
      ]
     },
     "execution_count": 20,
     "metadata": {},
     "output_type": "execute_result"
    }
   ],
   "source": [
    "include(\"../mocap-mtds/mocap_viz.jl\")"
   ]
  },
  {
   "cell_type": "code",
   "execution_count": 5,
   "metadata": {},
   "outputs": [],
   "source": [
    "data_path = \"data/\"\n",
    "\n",
    "#= Load from Numpy Compressed files dumped from python pre-processing =#\n",
    "Ys = npzread(joinpath(data_path, \"edin_Ys_30fps_final.npz\"))\n",
    "Us = npzread(joinpath(data_path, \"edin_Us_30fps_final.npz\"))\n",
    "\n",
    "#= Extract from Dict --> Array of Matrices =#\n",
    "N = length(Ys)\n",
    "Ys = [Ys[string(i)] for i in 1:N]\n",
    "Us = [Us[string(i)] for i in 1:N];"
   ]
  },
  {
   "cell_type": "code",
   "execution_count": 6,
   "metadata": {},
   "outputs": [
    {
     "data": {
      "text/plain": [
       "extract_trajectory (generic function with 1 method)"
      ]
     },
     "execution_count": 6,
     "metadata": {},
     "output_type": "execute_result"
    }
   ],
   "source": [
    "\n",
    "extract_joint_pos(y) = begin; @argcheck size(y,2) == 133; y[:,8:70]; end\n",
    "extract_joint_rot(y) = begin; @argcheck size(y,2) == 133; y[:,71:133]; end\n",
    "extract_trajectory(x) = begin; @argcheck size(x,2) == 150; x[:,1:48]; end"
   ]
  },
  {
   "cell_type": "code",
   "execution_count": 7,
   "metadata": {},
   "outputs": [
    {
     "data": {
      "text/plain": [
       "kwidentity (generic function with 1 method)"
      ]
     },
     "execution_count": 7,
     "metadata": {},
     "output_type": "execute_result"
    }
   ],
   "source": [
    "kwidentity(x; kwargs...) = identity(x)"
   ]
  },
  {
   "cell_type": "code",
   "execution_count": 8,
   "metadata": {},
   "outputs": [
    {
     "data": {
      "text/plain": [
       "1×67 Matrix{Float32}:\n",
       " 1.00025  1.00014  1.00006  1.00025  1.00004  …  0.999999  1.00003  0.999905"
      ]
     },
     "execution_count": 8,
     "metadata": {},
     "output_type": "execute_result"
    }
   ],
   "source": [
    "std(reduce(vcat, Ys), dims=1)"
   ]
  },
  {
   "cell_type": "code",
   "execution_count": 9,
   "metadata": {},
   "outputs": [
    {
     "data": {
      "text/plain": [
       "apply_rotation (generic function with 1 method)"
      ]
     },
     "execution_count": 9,
     "metadata": {},
     "output_type": "execute_result"
    }
   ],
   "source": [
    "qimag = Quaternions.imag\n",
    "quat_list(x) = [quat(x[i,:]) for i in 1:size(x,1)]\n",
    "quat_list_to_mat(x) = reduce(vcat, [qimag(xx)' for xx in x])\n",
    "quaterion_angle_axis_w_y(θ) = quat(cos(θ/2), 0, sin(θ/2), 0)\n",
    "apply_rotation(x, qrot) = qrot * x * conj(qrot)"
   ]
  },
  {
   "cell_type": "code",
   "execution_count": 10,
   "metadata": {},
   "outputs": [
    {
     "data": {
      "text/plain": [
       "_joints_fk (generic function with 1 method)"
      ]
     },
     "execution_count": 10,
     "metadata": {},
     "output_type": "execute_result"
    }
   ],
   "source": [
    "function reconstruct_positions(Y::Matrix; denormalize=false)\n",
    "    Y = convert(Matrix{Float64}, Y)   # reduce error propagation from iterative scheme\n",
    "    if denormalize\n",
    "        Y = Y .* loadYstd' .+ loadYmu'\n",
    "    end\n",
    "    \n",
    "    root_r, root_x, root_z, joints = Y[:,1], Y[:,2], Y[:,3], Y[:,4:(63+3)]\n",
    "    return _joints_fk(joints, root_x, root_z, root_r)\n",
    "end\n",
    "\n",
    "function _joints_fk(joints::Matrix{T}, root_x::Vector{T}, root_z::Vector{T}, \n",
    "        root_r::Vector{T}) where T <: Number\n",
    "\n",
    "    n = size(joints, 1)\n",
    "    joints = reshape(joints, n, 3, 21)\n",
    "    joints = permutedims(joints, [1,3,2])\n",
    "    rotation = Quaternion(1.0)\n",
    "    offsets = []\n",
    "    translation = zeros(3)\n",
    "\n",
    "    for i = 1:n\n",
    "        joints[i,:,:] = apply_rotation(quat_list(joints[i,:,:]), rotation) |> quat_list_to_mat\n",
    "        joints[i,:,1] = joints[i,:,1] .+ translation[1]\n",
    "        joints[i,:,3] = joints[i,:,3] .+ translation[3]\n",
    "        \n",
    "        rotation = quaterion_angle_axis_w_y(-root_r[i]) * rotation\n",
    "        append!(offsets, apply_rotation(quat(0.,0,0,1), rotation))\n",
    "        translation = translation + qimag(apply_rotation(quat(0., root_x[i], 0, root_z[i]), rotation))\n",
    "    end\n",
    "    \n",
    "    return joints\n",
    "end"
   ]
  },
  {
   "cell_type": "code",
   "execution_count": 11,
   "metadata": {},
   "outputs": [
    {
     "name": "stderr",
     "output_type": "stream",
     "text": [
      "┌ Info: MeshCat server started. You can open the visualizer by visiting the following URL in your browser:\n",
      "│ http://127.0.0.1:8700\n",
      "└ @ MeshCat /home/alexbird/.julia/packages/MeshCat/GlCMx/src/visualizer.jl:73\n"
     ]
    },
    {
     "data": {
      "text/plain": [
       "MeshCat Visualizer with path /meshcat at http://127.0.0.1:8700"
      ]
     },
     "execution_count": 11,
     "metadata": {},
     "output_type": "execute_result"
    }
   ],
   "source": [
    "vis = Visualizer()"
   ]
  },
  {
   "cell_type": "code",
   "execution_count": 17,
   "metadata": {},
   "outputs": [
    {
     "data": {
      "text/plain": [
       "CoordinateTransformations"
      ]
     },
     "execution_count": 17,
     "metadata": {},
     "output_type": "execute_result"
    }
   ],
   "source": [
    "@which Transformation"
   ]
  },
  {
   "cell_type": "code",
   "execution_count": 12,
   "metadata": {},
   "outputs": [],
   "source": [
    "cur_recon = reconstruct_positions(Ys[1][1:300,:]);"
   ]
  },
  {
   "cell_type": "code",
   "execution_count": 21,
   "metadata": {},
   "outputs": [
    {
     "data": {
      "text/plain": [
       "MeshCat Visualizer with path /meshcat at http://127.0.0.1:8700"
      ]
     },
     "execution_count": 21,
     "metadata": {},
     "output_type": "execute_result"
    }
   ],
   "source": [
    "vis = mocapviz.create_animation([cur_recon], \"test\"; vis=vis, linemesh=[mocapviz.yellowmesh])"
   ]
  },
  {
   "cell_type": "code",
   "execution_count": 17,
   "metadata": {},
   "outputs": [],
   "source": [
    "using GeometryBasics: Cylinder, HyperSphere, Point"
   ]
  },
  {
   "cell_type": "code",
   "execution_count": null,
   "metadata": {},
   "outputs": [],
   "source": [
    "AbstractGeometry, AbstractMesh, MeshFileGeometry"
   ]
  },
  {
   "cell_type": "code",
   "execution_count": 54,
   "metadata": {},
   "outputs": [
    {
     "data": {
      "text/plain": [
       "MeshCat"
      ]
     },
     "execution_count": 54,
     "metadata": {},
     "output_type": "execute_result"
    }
   ],
   "source": [
    "@which GeometryLike"
   ]
  },
  {
   "cell_type": "code",
   "execution_count": 44,
   "metadata": {},
   "outputs": [
    {
     "name": "stdout",
     "output_type": "stream",
     "text": [
      "HyperRectangle{3, Float64} <: GeometryPrimitive{3, Float64} <: AbstractGeometry{3, Float64} <: Any"
     ]
    }
   ],
   "source": [
    "Base.show_supertypes(typeof(HyperRectangle(Vec(0., 0, 0), Vec(1., 1, 1))))"
   ]
  },
  {
   "cell_type": "code",
   "execution_count": 53,
   "metadata": {},
   "outputs": [
    {
     "data": {
      "text/plain": [
       "true"
      ]
     },
     "execution_count": 53,
     "metadata": {},
     "output_type": "execute_result"
    }
   ],
   "source": [
    "typeof(HyperRectangle(Vec(0., 0, 0), Vec(1., 1, 1))) <: AbstractGeometry"
   ]
  },
  {
   "cell_type": "code",
   "execution_count": 18,
   "metadata": {},
   "outputs": [
    {
     "data": {
      "text/plain": [
       "MeshCat Visualizer with path /meshcat at http://127.0.0.1:8700"
      ]
     },
     "execution_count": 18,
     "metadata": {},
     "output_type": "execute_result"
    }
   ],
   "source": [
    "setobject!(vis, HyperRectangle(Vec(0., 0, 0), Vec(1., 1, 1)))\n",
    "settransform!(vis, Translation(-0.5, -0.5, 0))"
   ]
  },
  {
   "cell_type": "code",
   "execution_count": 41,
   "metadata": {},
   "outputs": [
    {
     "ename": "LoadError",
     "evalue": "UndefVarError: anim_settransform! not defined",
     "output_type": "error",
     "traceback": [
      "UndefVarError: anim_settransform! not defined",
      "",
      "Stacktrace:",
      "  [1] recurse",
      "    @ ~/Documents/phd-work/mocap-mtds/mocap_viz.jl:109 [inlined]",
      "  [2] recurse(::Cassette.Context{nametype(AnimationCtx), Tuple{Animation, Int64}, Nothing, Cassette.var\"##PassType#259\", Nothing, Nothing}, ::Main.mocapviz.var\"##settransform_collection!#6\", ::Bool, ::typeof(Main.mocapviz.settransform_collection!), ::Visualizer, ::Main.mocapviz.LineCollection{Cylinder3{Float64}, MeshCat.GenericMaterial})",
      "    @ Cassette ~/.julia/packages/Cassette/N5kbV/src/overdub.jl:0",
      "  [3] (::Main.mocapviz.var\"",
      "    @ ~/Documents/phd-work/mocap-mtds/mocap_viz.jl:106 [inlined]",
      "  [4] overdub",
      "    @ ~/Documents/phd-work/mocap-mtds/mocap_viz.jl:106 [inlined]",
      "  [5] overdub(::Cassette.Context{nametype(AnimationCtx), Tuple{Animation, Int64}, Nothing, Cassette.var\"##PassType#259\", Nothing, Nothing}, ::Main.mocapviz.var\"#settransform_collection!##kw\", ::NamedTuple{(:anim,), Tuple{Bool}}, ::typeof(Main.mocapviz.settransform_collection!), ::Visualizer, ::Main.mocapviz.LineCollection{Cylinder3{Float64}, MeshCat.GenericMaterial})",
      "    @ Cassette ~/.julia/packages/Cassette/N5kbV/src/overdub.jl:0",
      "  [6] recurse",
      "    @ ~/Documents/phd-work/mocap-mtds/mocap_viz.jl:101 [inlined]",
      "  [7] recurse(::Cassette.Context{nametype(AnimationCtx), Tuple{Animation, Int64}, Nothing, Cassette.var\"##PassType#259\", Nothing, Nothing}, ::Main.mocapviz.var\"##settransform_collection!#5\", ::Bool, ::typeof(Main.mocapviz.settransform_collection!), ::Visualizer, ::Main.mocapviz.LineCollection{Cylinder3{Float64}, MeshCat.GenericMaterial}, ::Main.mocapviz.JointCollection{Sphere{Float64}, MeshCat.GenericMaterial})",
      "    @ Cassette ~/.julia/packages/Cassette/N5kbV/src/overdub.jl:0",
      "  [8] recurse",
      "    @ ~/.julia/packages/Cassette/N5kbV/src/overdub.jl:626 [inlined]",
      "  [9] (::Main.mocapviz.var\"",
      "    @ ~/Documents/phd-work/mocap-mtds/mocap_viz.jl:100 [inlined]",
      " [10] overdub",
      "    @ ~/Documents/phd-work/mocap-mtds/mocap_viz.jl:100 [inlined]",
      " [11] overdub(::Cassette.Context{nametype(AnimationCtx), Tuple{Animation, Int64}, Nothing, Cassette.var\"##PassType#259\", Nothing, Nothing}, ::Main.mocapviz.var\"#settransform_collection!##kw\", ::NamedTuple{(:anim,), Tuple{Bool}}, ::typeof(Main.mocapviz.settransform_collection!), ::Visualizer, ::Main.mocapviz.LineCollection{Cylinder3{Float64}, MeshCat.GenericMaterial}, ::Main.mocapviz.JointCollection{Sphere{Float64}, MeshCat.GenericMaterial})",
      "    @ Cassette ~/.julia/packages/Cassette/N5kbV/src/overdub.jl:0",
      " [12] overdub",
      "    @ ./In[38]:74 [inlined]",
      " [13] overdub(overdub_context#257::Cassette.Context{nametype(AnimationCtx), Tuple{Animation, Int64}, Nothing, Cassette.var\"##PassType#259\", Nothing, Nothing}, overdub_arguments#258::var\"#204#214\"{Vector{Int64}, Float64, Symbol, Vector{Array{Float64, 3}}, Vector{Int64}, Vector{Float64}, Vector{Tuple{Main.mocapviz.LineCollection{Cylinder3{Float64}, MeshCat.GenericMaterial}, Main.mocapviz.JointCollection{Sphere{Float64}, MeshCat.GenericMaterial}, Nothing}}, Int64, Int64, Vector{Int64}, Int64})",
      "    @ Cassette ~/.julia/packages/Cassette/N5kbV/src/overdub.jl:0",
      " [14] atframe(f::Function, animation::Animation, frame::Int64)",
      "    @ MeshCat ~/.julia/packages/MeshCat/GlCMx/src/atframe.jl:97",
      " [15] create_animation(data::Vector{Array{Float64, 3}}, names::String; vis::Visualizer, parents::Vector{Int64}, jointmesh::MeshCat.GenericMaterial, linemesh::Vector{MeshCat.GenericMaterial}, scale::Float64, camera::Symbol, path::Nothing)",
      "    @ Main ./In[38]:68",
      " [16] top-level scope",
      "    @ In[41]:1",
      " [17] eval",
      "    @ ./boot.jl:360 [inlined]",
      " [18] include_string(mapexpr::typeof(REPL.softscope), mod::Module, code::String, filename::String)",
      "    @ Base ./loading.jl:1094"
     ]
    }
   ],
   "source": [
    "create_animation([cur_recon], \"test\"; vis=vis, linemesh=[mocapviz.yellowmesh])"
   ]
  },
  {
   "cell_type": "code",
   "execution_count": 34,
   "metadata": {},
   "outputs": [
    {
     "name": "stderr",
     "output_type": "stream",
     "text": [
      "WARNING: using DSP.conv in module Main conflicts with an existing identifier.\n"
     ]
    },
    {
     "data": {
      "text/plain": [
       "settransform_collection! (generic function with 3 methods)"
      ]
     },
     "execution_count": 34,
     "metadata": {},
     "output_type": "execute_result"
    }
   ],
   "source": [
    "# using mocapviz: gen_numstr, LineCollection, JointCollection, setobj_collection!, update_pos!, settransform_collection!\n",
    "using DSP\n",
    "\n",
    "const LineCollection = mocapviz.LineCollection;\n",
    "const JointCollection = mocapviz.JointCollection;\n",
    "const setobj_collection! = mocapviz.setobj_collection!;\n",
    "const update_pos! = mocapviz.update_pos!;\n",
    "const settransform_collection! = mocapviz.settransform_collection!"
   ]
  },
  {
   "cell_type": "code",
   "execution_count": 38,
   "metadata": {},
   "outputs": [
    {
     "data": {
      "text/plain": [
       "create_animation (generic function with 2 methods)"
      ]
     },
     "execution_count": 38,
     "metadata": {},
     "output_type": "execute_result"
    }
   ],
   "source": [
    "function create_animation(data::Vector, names::Union{String, Array{String}}=\"dataset\";\n",
    "    vis=nothing, parents=[1,2,3,4,1,6,7,8,1,10,11,12,12,14,15,16,12,18,19,20],\n",
    "    jointmesh::Union{AbstractMaterial, Vector{T} where T <: AbstractMaterial}=mocapviz.greymesh,\n",
    "    linemesh::Union{AbstractMaterial, Vector{T} where T <: AbstractMaterial}=mocapviz.yellowmesh, scale=0.1,\n",
    "    camera::Symbol=:front, path::Union{Nothing, AbstractMatrix{T} where T <: Real, Vector}=nothing)\n",
    "\n",
    "    # dimensions\n",
    "    Ts = [size(d,1) for d in data]\n",
    "    ls = [size(d,2) for d in data]\n",
    "    n  = length(ls)\n",
    "    maxT = maximum(Ts)\n",
    "    ispath = !(path === nothing)\n",
    "\n",
    "    # convenience expansions if args are singular\n",
    "    (names isa String) && (names = [names * string(i) for i in 1:n])\n",
    "    (jointmesh isa AbstractMaterial) && (jointmesh = repeat([jointmesh], n))\n",
    "    (linemesh isa AbstractMaterial) && (linemesh = repeat([linemesh], n))\n",
    "    ispath && (path isa AbstractMatrix) && (path = [path])\n",
    "    npaths = ispath ? length(path) : 0\n",
    "    (npaths >= 1) && (pathmesh = map(darkencol, linemesh));\n",
    "    (npaths == 1) && (pathmesh = [blackmesh]);\n",
    "    # assertions\n",
    "    @argcheck length(data) == length(names)\n",
    "    @assert (all([ndims(d) for d in data] .== 3) && all([size(d,3) for d in data] .==3)) \"Need NxJx3 matrices.\"\n",
    "    @argcheck camera in [:front, :back, :static]\n",
    "    ispath && @argcheck size(path[1]) == (Ts[1], 12)\n",
    "    # @assert all(ls .<= length(parents)-1) \"more joints given (dim 1) than are assigned parents.\"\n",
    "    # any(ls .> length(parents)) && @warn format(\"({:d}/{:d}) datasets have fewer joints than specified in parents.\",\n",
    "    #     sum(ls .> length(parents)), n)\n",
    "\n",
    "    if vis === nothing\n",
    "        vis = Visualizer()\n",
    "        open(vis)\n",
    "    else\n",
    "        @assert (vis isa Visualizer) \"Don't know what to do with vis::$(typeof(vis)). Expecting Visualizer.\"\n",
    "    end\n",
    "\n",
    "    gen_numstr(prefix) = num -> prefix * format(\"{:02d}\", num);\n",
    "    dotstr, linestr, pathstr = gen_numstr(\"dot_\"), gen_numstr(\"line_\"), gen_numstr(\"path_\")\n",
    "\n",
    "    # Initialise objects for each dataset\n",
    "    objs = map(1:n) do i\n",
    "        if i <= npaths\n",
    "            obj_path = LineCollection(repeat([Cylinder(zero(Point{3, Float64}), Point{3}([1.,0,0]), 0.02)], 10), map(pathstr,  1:10), repeat([pathmesh[i]], 10))\n",
    "            setobj_collection!(vis[names[i]], obj_path)\n",
    "        else\n",
    "            obj_path = nothing\n",
    "        end\n",
    "\n",
    "        nj, nl = ls[i], ls[i]-1\n",
    "        obj_lc = LineCollection(repeat([Cylinder(zero(Point{3, Float64}), Point{3}([1.,0,0]), 0.03)], nl), map(linestr, 1:nl), repeat([linemesh[i]], nl))\n",
    "        obj_jc = JointCollection(repeat([HyperSphere(Point{3}(0.), 0.04)], nj), map(dotstr, 1:nj), repeat([jointmesh[i]], nj))\n",
    "        setobj_collection!(vis[names[i]], obj_lc, obj_jc)  # note order: lines at back, joints at front\n",
    "        (obj_lc, obj_jc, obj_path)\n",
    "    end\n",
    "\n",
    "    #=========== BEGIN ANIMATION CONSTRUCTION ===============================#\n",
    "    anim = Animation()\n",
    "\n",
    "    # camera trajectory (smoothed (MA-4) over skeleton traj)\n",
    "    cam_ix = 1\n",
    "    pos = hcat([data[cam_ix][tt,1,1]*scale for tt in 1:maxT], [data[cam_ix][tt,1,3]*scale for tt in 1:maxT])\n",
    "    pos = hcat(DSP.conv(pos[:,1], Windows.rect(4)/4), DSP.conv(pos[:,2], Windows.rect(4)/4))[1:maxT,:]\n",
    "    cc = [scale, scale] * (camera == :front ? -1 : +1)\n",
    "\n",
    "    reord = [1,3,2] # need to permute z/y axis for three.js setup\n",
    "    for tt in 1:maxT\n",
    "        atframe(anim, tt-1) do\n",
    "            for i in 1:n\n",
    "                if Ts[i] >= tt\n",
    "                    lines, joints, pathlines = objs[i]\n",
    "                    update_pos!(lines, data[i][tt,:,reord]*scale, parents)   # Note that update_pos only updates the line/joint collection position.\n",
    "                    update_pos!(joints, data[i][tt,:,reord]*scale);          # Once these objects are correct, `settransform_collection` pushes => animation.\n",
    "                    settransform_collection!(vis[names[i]], lines, joints; anim=true)  # note order: lines at back, joints at front\n",
    "\n",
    "                    if i <= npaths\n",
    "                        trail = randn(5,3)*0.001   # case i=1: all segments need positive length (Meshcat reqmt.)\n",
    "                        trail_ixs = max(tt-41, 1):10:(tt-1)\n",
    "                        if false\n",
    "                            trail[(6-length(trail_ixs)):5, :] = project_ground(data[i][trail_ixs, 1, reord])\n",
    "                        else\n",
    "                            trail[(6-length(trail_ixs)):5, :] = hcat(path[i][trail_ixs, 1], path[i][trail_ixs, 7], zeros(length(trail_ixs)))\n",
    "                        end\n",
    "                        path_matrix = vcat(trail, hcat(reshape(path[i][tt, :], 6, 2), zeros(6)))*scale\n",
    "                        update_pos!(pathlines, path_matrix[1:10,:], path_matrix[2:11,:])\n",
    "                        settransform_collection!(vis[names[i]], pathlines; anim=true)\n",
    "                    end\n",
    "                end\n",
    "            end\n",
    "            # one-per-frame updates\n",
    "            if camera != :static\n",
    "                settransform!(vis[\"/Cameras/default\"], Translation(pos[tt,1] + cc[1], pos[tt,2] + cc[2], 1))\n",
    "            end\n",
    "        end\n",
    "    end\n",
    "\n",
    "    setanimation!(vis, anim)\n",
    "    return vis\n",
    "end"
   ]
  },
  {
   "cell_type": "code",
   "execution_count": null,
   "metadata": {},
   "outputs": [],
   "source": []
  }
 ],
 "metadata": {
  "kernelspec": {
   "display_name": "Julia 1.6.0",
   "language": "julia",
   "name": "julia-1.6"
  },
  "language_info": {
   "file_extension": ".jl",
   "mimetype": "application/julia",
   "name": "julia",
   "version": "1.6.0"
  }
 },
 "nbformat": 4,
 "nbformat_minor": 4
}
