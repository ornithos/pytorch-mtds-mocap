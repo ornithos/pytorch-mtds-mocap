{
 "cells": [
  {
   "cell_type": "markdown",
   "metadata": {},
   "source": [
    "### A quick note on Python <> Julia integration\n",
    "The below script relies on Matplotlib and PyTorch being available in the Conda environment attached to Julia. If you don't tend to use Julia very much, you may want to attach one of your favourite Python environments to Julia to avoid reinstalling a bunch of stuff. To do this, run the following commands with the appropriate Python executable referenced. (If PyCall is not yet installed, you could use `pkg\"add PyCall\"` instead of `build`.\n",
    "\n",
    "```julia\n",
    "ENV[\"PYTHON\"]=expanduser(\"~/anaconda3/envs/mkl/bin/python\")  # change path here\n",
    "using Pkg\n",
    "pkg\"build PyCall\"\n",
    "```\n",
    "Thanks to [Przemyslaw Szufel](https://stackoverflow.com/a/63182917) for this notebook friendly route."
   ]
  },
  {
   "cell_type": "code",
   "execution_count": 1,
   "metadata": {},
   "outputs": [],
   "source": [
    "using MeshCat"
   ]
  },
  {
   "cell_type": "code",
   "execution_count": 2,
   "metadata": {
    "scrolled": true
   },
   "outputs": [],
   "source": [
    "using LinearAlgebra, Statistics, StatsBase, Random\n",
    "using PyPlot\n",
    "using BSON, NPZ, CSV, Tables\n",
    "\n",
    "using MeshCat\n",
    "using Quaternions, GeometryBasics, CoordinateTransformations"
   ]
  },
  {
   "cell_type": "code",
   "execution_count": 3,
   "metadata": {},
   "outputs": [
    {
     "data": {
      "text/plain": [
       "Main.mocaputil"
      ]
     },
     "execution_count": 3,
     "metadata": {},
     "output_type": "execute_result"
    }
   ],
   "source": [
    "# Project-specific Julia code\n",
    "include(\"viz/mocap_viz.jl\")\n",
    "include(\"viz/expmtdata.jl\")\n",
    "include(\"viz/geom3d.jl\")\n",
    "include(\"viz/prettytbl.jl\")\n",
    "include(\"viz/util.jl\")"
   ]
  },
  {
   "cell_type": "markdown",
   "metadata": {},
   "source": [
    "## Load in data\n",
    "\n",
    "Recall that the 30fps processed data can be downloaded from [https://bit.ly/38x2sra](https://bit.ly/38x2sra). Once downloaded, please store the `.npz` files in the `data/` directory in the base project (parent) folder."
   ]
  },
  {
   "cell_type": "code",
   "execution_count": 4,
   "metadata": {
    "scrolled": true
   },
   "outputs": [
    {
     "data": {
      "text/plain": [
       "8-element Vector{Vector{Int64}}:\n",
       " [1, 2, 3, 4, 5, 6]\n",
       " [7, 8, 9, 10]\n",
       " [11, 12, 13]\n",
       " [14, 15, 16, 17]\n",
       " [18, 19, 20, 21]\n",
       " [22, 23, 24, 25]\n",
       " [26, 27, 28]\n",
       " [29, 30, 31]"
      ]
     },
     "execution_count": 4,
     "metadata": {},
     "output_type": "execute_result"
    }
   ],
   "source": [
    "# database = \"../../mocap-mtds-macbook/data/edin-style-transfer/\"\n",
    "# files_edin = [joinpath(database, f) for f in readdir(database)];\n",
    "# style_name_edin = [x[1] for x in match.(r\"[a-z\\-]+/[a-z\\-]+/([a-z]+)_.*\", files_edin)];\n",
    "# styles = unique(style_name_edin)\n",
    "# styles_lkp = [findall(s .== style_name_edin) for s in styles]\n",
    "styles_lkp = [\n",
    "    [1, 2, 3, 4, 5, 6],\n",
    "    [7, 8, 9, 10],\n",
    "    [11, 12, 13],\n",
    "    [14, 15, 16, 17],\n",
    "    [18, 19, 20, 21],\n",
    "    [22, 23, 24, 25],\n",
    "    [26, 27, 28],\n",
    "    [29, 30, 31]\n",
    "]"
   ]
  },
  {
   "cell_type": "markdown",
   "metadata": {},
   "source": [
    "**Do not perform the following cell.**\n",
    "\n",
    "We need to invert the standardization performed to create the data files used to train/test the model. This\n",
    "has been saved in BSON format, but the original code to do this is below."
   ]
  },
  {
   "cell_type": "code",
   "execution_count": 5,
   "metadata": {},
   "outputs": [],
   "source": [
    "# # Load in data\n",
    "# data_path2 = \"../../mocap-mtds-macbook/\"\n",
    "# Usraw1 = BSON.load(joinpath(data_path2, \"edin_Xs_30fps_final.bson\"))[:Xs];\n",
    "# Ysraw1 = BSON.load(joinpath(data_path2, \"edin_Ys_30fps_final.bson\"))[:Ys];\n",
    "\n",
    "# standardize_Y1 = fit(mocaputil.MyStandardScaler, reduce(vcat, Ysraw1),  1)\n",
    "# standardize_U1 = fit(mocaputil.MyStandardScaler, reduce(vcat, Usraw1),  1)\n",
    "\n",
    "# BSON.bson(\"../data/standardization_Y.bson\", Dict(\n",
    "#     \"μ\"=>standardize_Y1.μ, \n",
    "#     \"σ\"=>standardize_Y1.σ, \n",
    "#     \"operate_on\"=>standardize_Y1.operate_on,\n",
    "#     \"dims\"=>standardize_Y1.dims\n",
    "# ))\n",
    "# BSON.bson(\"../data/standardization_U.bson\", Dict(\n",
    "#     \"μ\"=>standardize_U1.μ, \n",
    "#     \"σ\"=>standardize_U1.σ,\n",
    "#     \"operate_on\"=>standardize_U1.operate_on,\n",
    "#     \"dims\"=>standardize_U1.dims\n",
    "# ))"
   ]
  },
  {
   "cell_type": "code",
   "execution_count": 6,
   "metadata": {},
   "outputs": [],
   "source": [
    "# # Load in data\n",
    "data_path = \"../data/\"\n",
    "\n",
    "#= Load from Numpy Compressed files dumped from python pre-processing =#\n",
    "Ys = npzread(joinpath(data_path, \"edin_Ys_30fps_final.npz\"))\n",
    "Us = npzread(joinpath(data_path, \"edin_Us_30fps_final.npz\"))\n",
    "\n",
    "# string-based dict to standard (int-based) array\n",
    "Ys = [Ys[string(i)] for i in 1:31]\n",
    "Us = [Us[string(i)] for i in 1:31];"
   ]
  },
  {
   "cell_type": "code",
   "execution_count": 7,
   "metadata": {},
   "outputs": [],
   "source": [
    "standardize_Y = mocaputil.MyStandardScaler(\n",
    "    let d=BSON.load(\"../data/standardization_Y.bson\"); d[\"μ\"], d[\"σ\"], d[\"operate_on\"], d[\"dims\"]; end...\n",
    ")\n",
    "standardize_U = mocaputil.MyStandardScaler(\n",
    "    let d=BSON.load(\"../data/standardization_U.bson\"); d[\"μ\"], d[\"σ\"], d[\"operate_on\"], d[\"dims\"]; end...\n",
    ");"
   ]
  },
  {
   "cell_type": "code",
   "execution_count": 8,
   "metadata": {},
   "outputs": [],
   "source": [
    "this_expmtdata = expmtdata.ExperimentData(\n",
    "    [zeros(Float32, size(y,1)+1, size(y,2)) for y in Ys],    # Ysraw -- legacy, not needed\n",
    "    [Matrix(y') for y in Ys], \n",
    "    [Matrix(u') for u in Us], \n",
    "    styles_lkp\n",
    ");"
   ]
  },
  {
   "cell_type": "markdown",
   "metadata": {},
   "source": [
    "----------------------\n",
    "## Training / test data for models (see note below)\n",
    "**This section is not specifially useful here**; but this is for demonstration purposes. In my experimental work I saved\n",
    "these batched training/test sets as `.npz` files and used them to feed to the PyTorch model in a training shell script."
   ]
  },
  {
   "cell_type": "code",
   "execution_count": 9,
   "metadata": {},
   "outputs": [
    {
     "data": {
      "text/latex": [
       "\\begin{verbatim}\n",
       "get_data(s::ExperimentData, ix, splittype, tasktype)\n",
       "\\end{verbatim}\n",
       "Convenience utility for accessing data stored in an ExperimentData struct. Specify the index of the target task, and then select from:\n",
       "\n",
       "splittype:\n",
       "\n",
       "\\begin{itemize}\n",
       "\\item \\textbf{:all}        - return the concatentation of all training/validation/test data.\n",
       "\n",
       "\n",
       "\\item \\textbf{:trainvalid} - return the concatentation of all training/validation data.\n",
       "\n",
       "\n",
       "\\item \\textbf{:split}      - return individual (3x) outputs for training/validation/test data.\n",
       "\n",
       "\n",
       "\\item \\textbf{:test}       - return only the test data\n",
       "\n",
       "\n",
       "\\item \\textbf{:train}      - return only the train data\n",
       "\n",
       "\n",
       "\\item \\textbf{:valid}      - return only the validation data.\n",
       "\n",
       "\\end{itemize}\n",
       "tasktype:\n",
       "\n",
       "\\begin{itemize}\n",
       "\\item \\textbf{:stl}   - single task model. Return train/validation/test data from this task's data.\n",
       "\n",
       "\n",
       "\\item \\textbf{:pool}  - pooled/cohort model. Here, training and validation data are from the        complement of the selected index, returned in individual wrappers.\n",
       "\n",
       "\\end{itemize}\n",
       "Note that in all cases, the output will be (a) Dict(s) containing the following fields:\n",
       "\n",
       "\\begin{itemize}\n",
       "\\item \\textbf{:Y}    - the observation matrix (each column is an observation).\n",
       "\n",
       "\n",
       "\\item \\textbf{:U}    - the input matrix (each column is a datapoint).\n",
       "\n",
       "\n",
       "\\item \\textbf{:Yraw} - the raw data before standardisation and another manipulation. (Possibly legacy?)\n",
       "\n",
       "\\end{itemize}\n",
       "Othe kwargs:\n",
       "\n",
       "\\begin{itemize}\n",
       "\\item \\texttt{concat}  - By default, each boundary encountered between files will result in\n",
       "\n",
       "\\end{itemize}\n",
       "a separate Dict, so the return values will be a vector of Dicts. However, for more basic models (such as linear regression) with no assumption of temporal continuity, it may be simpler to operate on a standard input and output data matrix. Setting \\texttt{concat = true} will return just a single Dict in an array with all the data. Choosing \\texttt{simplify=true} will further remove the array, returning only Dicts.\n",
       "\n",
       "\\begin{itemize}\n",
       "\\item \\texttt{stratified}  - (STL only) stratify the validation/test sets across files in\n",
       "\n",
       "\\end{itemize}\n",
       "each style. By default, the test set will come at the end of the concatenation of all files. Stratifying will mean there are L test sets from each of L files. For the pooled dataset, the test set is partially stratified, that is, it is stratified over the \\emph{types} (i.e. a \\% of each style), but not over the \\emph{files} within the types. Given that our goal is MTL, this seems appropriate.\n",
       "\n",
       "\\begin{itemize}\n",
       "\\item \\texttt{split}  - The train/validation/test split as a simplicial 3-dim vector.\n",
       "\n",
       "\n",
       "\\item \\texttt{simplify} - See \\texttt{concat}. Used without \\texttt{concat} this option does nothing.\n",
       "\n",
       "\\end{itemize}\n"
      ],
      "text/markdown": [
       "```\n",
       "get_data(s::ExperimentData, ix, splittype, tasktype)\n",
       "```\n",
       "\n",
       "Convenience utility for accessing data stored in an ExperimentData struct. Specify the index of the target task, and then select from:\n",
       "\n",
       "splittype:\n",
       "\n",
       "  * **:all**        - return the concatentation of all training/validation/test data.\n",
       "  * **:trainvalid** - return the concatentation of all training/validation data.\n",
       "  * **:split**      - return individual (3x) outputs for training/validation/test data.\n",
       "  * **:test**       - return only the test data\n",
       "  * **:train**      - return only the train data\n",
       "  * **:valid**      - return only the validation data.\n",
       "\n",
       "tasktype:\n",
       "\n",
       "  * **:stl**   - single task model. Return train/validation/test data from this task's data.\n",
       "  * **:pool**  - pooled/cohort model. Here, training and validation data are from the        complement of the selected index, returned in individual wrappers.\n",
       "\n",
       "Note that in all cases, the output will be (a) Dict(s) containing the following fields:\n",
       "\n",
       "  * **:Y**    - the observation matrix (each column is an observation).\n",
       "  * **:U**    - the input matrix (each column is a datapoint).\n",
       "  * **:Yraw** - the raw data before standardisation and another manipulation. (Possibly legacy?)\n",
       "\n",
       "Othe kwargs:\n",
       "\n",
       "  * `concat`  - By default, each boundary encountered between files will result in\n",
       "\n",
       "a separate Dict, so the return values will be a vector of Dicts. However, for more basic models (such as linear regression) with no assumption of temporal continuity, it may be simpler to operate on a standard input and output data matrix. Setting `concat = true` will return just a single Dict in an array with all the data. Choosing `simplify=true` will further remove the array, returning only Dicts.\n",
       "\n",
       "  * `stratified`  - (STL only) stratify the validation/test sets across files in\n",
       "\n",
       "each style. By default, the test set will come at the end of the concatenation of all files. Stratifying will mean there are L test sets from each of L files. For the pooled dataset, the test set is partially stratified, that is, it is stratified over the *types* (i.e. a % of each style), but not over the *files* within the types. Given that our goal is MTL, this seems appropriate.\n",
       "\n",
       "  * `split`  - The train/validation/test split as a simplicial 3-dim vector.\n",
       "  * `simplify` - See `concat`. Used without `concat` this option does nothing.\n"
      ],
      "text/plain": [
       "\u001b[36m  get_data(s::ExperimentData, ix, splittype, tasktype)\u001b[39m\n",
       "\n",
       "  Convenience utility for accessing data stored in an ExperimentData struct.\n",
       "  Specify the index of the target task, and then select from:\n",
       "\n",
       "  splittype:\n",
       "\n",
       "    •  \u001b[1m:all\u001b[22m - return the concatentation of all training/validation/test\n",
       "       data.\n",
       "\n",
       "    •  \u001b[1m:trainvalid\u001b[22m - return the concatentation of all training/validation\n",
       "       data.\n",
       "\n",
       "    •  \u001b[1m:split\u001b[22m - return individual (3x) outputs for\n",
       "       training/validation/test data.\n",
       "\n",
       "    •  \u001b[1m:test\u001b[22m - return only the test data\n",
       "\n",
       "    •  \u001b[1m:train\u001b[22m - return only the train data\n",
       "\n",
       "    •  \u001b[1m:valid\u001b[22m - return only the validation data.\n",
       "\n",
       "  tasktype:\n",
       "\n",
       "    •  \u001b[1m:stl\u001b[22m - single task model. Return train/validation/test data from\n",
       "       this task's data.\n",
       "\n",
       "    •  \u001b[1m:pool\u001b[22m - pooled/cohort model. Here, training and validation data\n",
       "       are from the complement of the selected index, returned in\n",
       "       individual wrappers.\n",
       "\n",
       "  Note that in all cases, the output will be (a) Dict(s) containing the\n",
       "  following fields:\n",
       "\n",
       "    •  \u001b[1m:Y\u001b[22m - the observation matrix (each column is an observation).\n",
       "\n",
       "    •  \u001b[1m:U\u001b[22m - the input matrix (each column is a datapoint).\n",
       "\n",
       "    •  \u001b[1m:Yraw\u001b[22m - the raw data before standardisation and another\n",
       "       manipulation. (Possibly legacy?)\n",
       "\n",
       "  Othe kwargs:\n",
       "\n",
       "    •  \u001b[36mconcat\u001b[39m - By default, each boundary encountered between files will\n",
       "       result in\n",
       "\n",
       "  a separate Dict, so the return values will be a vector of Dicts. However,\n",
       "  for more basic models (such as linear regression) with no assumption of\n",
       "  temporal continuity, it may be simpler to operate on a standard input and\n",
       "  output data matrix. Setting \u001b[36mconcat = true\u001b[39m will return just a single Dict in\n",
       "  an array with all the data. Choosing \u001b[36msimplify=true\u001b[39m will further remove the\n",
       "  array, returning only Dicts.\n",
       "\n",
       "    •  \u001b[36mstratified\u001b[39m - (STL only) stratify the validation/test sets across\n",
       "       files in\n",
       "\n",
       "  each style. By default, the test set will come at the end of the\n",
       "  concatenation of all files. Stratifying will mean there are L test sets from\n",
       "  each of L files. For the pooled dataset, the test set is partially\n",
       "  stratified, that is, it is stratified over the \u001b[4mtypes\u001b[24m (i.e. a % of each\n",
       "  style), but not over the \u001b[4mfiles\u001b[24m within the types. Given that our goal is MTL,\n",
       "  this seems appropriate.\n",
       "\n",
       "    •  \u001b[36msplit\u001b[39m - The train/validation/test split as a simplicial 3-dim\n",
       "       vector.\n",
       "\n",
       "    •  \u001b[36msimplify\u001b[39m - See \u001b[36mconcat\u001b[39m. Used without \u001b[36mconcat\u001b[39m this option does\n",
       "       nothing."
      ]
     },
     "execution_count": 9,
     "metadata": {},
     "output_type": "execute_result"
    }
   ],
   "source": [
    "?expmtdata.get_data"
   ]
  },
  {
   "cell_type": "code",
   "execution_count": 10,
   "metadata": {},
   "outputs": [],
   "source": [
    "# Get training set for STL and pooled models.\n",
    "style_ix = 1                         # which style is to be held out for test data\n",
    "train_ixs = setdiff(1:8, style_ix) \n",
    "min_size = 63;\n",
    "batch_size = 64;\n",
    "\n",
    "trainPool, validPool, testPool = expmtdata.get_data(this_expmtdata, style_ix, :split, :pooled)\n",
    "trainIter = mocaputil.DataIterator(trainPool, 64, min_size=min_size);\n",
    "trainIters = collect(trainIter);"
   ]
  },
  {
   "cell_type": "code",
   "execution_count": 11,
   "metadata": {},
   "outputs": [],
   "source": [
    "testIter = mocaputil.DataIterator(testPool, 64, min_size=min_size);\n",
    "testIters = collect(testIter);"
   ]
  },
  {
   "cell_type": "markdown",
   "metadata": {},
   "source": [
    "#### What does this training data look like?\n",
    "Each batch is defined here to have length 64, and hence:"
   ]
  },
  {
   "cell_type": "code",
   "execution_count": 12,
   "metadata": {},
   "outputs": [
    {
     "name": "stdout",
     "output_type": "stream",
     "text": [
      "Each batch b typically has Y_b of size (n_y, T): (67, 64)\n",
      "                           U_b of size (n_u, T): (35, 64)\n",
      "  and an indicator of whether we have transitioned to a new sequence since the last batch (bool)\n"
     ]
    }
   ],
   "source": [
    "println(\"Each batch b typically has Y_b of size (n_y, T): $(size(trainIters[1][1]))\")\n",
    "println(\"                           U_b of size (n_u, T): $(size(trainIters[1][2]))\")\n",
    "println(\"  and an indicator of whether we have transitioned to a new sequence since the last batch (bool)\")"
   ]
  },
  {
   "cell_type": "markdown",
   "metadata": {},
   "source": [
    "#### How many batches do each style have?\n",
    "And when are their transitions throughout the batched data?"
   ]
  },
  {
   "cell_type": "code",
   "execution_count": 13,
   "metadata": {},
   "outputs": [
    {
     "data": {
      "text/html": [
       "<table style='display: inline-block';><tbody><tr><td>childlike<td>1</td></tr><tr><td>depressed<td>117</td></tr><tr><td>neutral<td>215</td></tr><tr><td>old<td>327</td></tr><tr><td>proud<td>426</td></tr><tr><td>sexy<td>505</td></tr><tr><td>strutting<td>642</td></tr></tbody></table>"
      ],
      "text/plain": [
       "HTML{String}(\"<table style='display: inline-block';><tbody><tr><td>childlike<td>1</td></tr><tr><td>depressed<td>117</td></tr><tr><td>neutral<td>215</td></tr><tr><td>old<td>327</td></tr><tr><td>proud<td>426</td></tr><tr><td>sexy<td>505</td></tr><tr><td>strutting<td>642</td></tr></tbody></table>\")"
      ]
     },
     "execution_count": 13,
     "metadata": {},
     "output_type": "execute_result"
    }
   ],
   "source": [
    "segment_lens = [length(mocaputil.DataIterator(expmtdata.get_data(this_expmtdata, i, :train, :stl, split=[0.875,0.125]),\n",
    "            64, min_size=63)) for i in train_ixs];\n",
    "segment_lkp = [collect(i+1:j) for (i,j) in zip(vcat(0, cumsum(segment_lens[1:end-1])), cumsum(segment_lens))];\n",
    "segment_names = [\"angry\", \"childlike\", \"depressed\", \"neutral\", \"old\", \"proud\", \"sexy\", \"strutting\"][train_ixs];\n",
    "prettytbl.table(reshape(cumsum(vcat(1, segment_lens)[1:end-1]), :, 1), header_col=segment_names, dp=0)"
   ]
  },
  {
   "cell_type": "markdown",
   "metadata": {},
   "source": [
    "------------------\n",
    "### Now back to the task at hand\n",
    "\n",
    "## Generating animations from this data"
   ]
  },
  {
   "cell_type": "markdown",
   "metadata": {},
   "source": [
    "The `file_offsets` describe the difference in position and rotation between the original and smoothed **path** trajectories.\n",
    "\n",
    "(To emphasise - only the path has had smoothing applied to it.) \n",
    "\n",
    "In order to make sure the raw data and the modelled data do not get out of sync (where the latter is the result of inputting the smoothed trajectory) we need to make sure the reconstruction of the modelled data takes this difference into account. Hence there's a bookkeeping headache of keeping such `file_offsets` around for each sequence.\n",
    "\n",
    "The following code ensures that the Forward Kinematics applied to the smoothed path is in sync with the reconstruction."
   ]
  },
  {
   "cell_type": "code",
   "execution_count": 14,
   "metadata": {},
   "outputs": [],
   "source": [
    "file_offsets = CSV.File(\"../data/file_offsets_pathsmooth.csv\") |> Tables.matrix;"
   ]
  },
  {
   "cell_type": "markdown",
   "metadata": {},
   "source": [
    "**Aside**: we don't get data from the training/test split since these are batched into length-64 sequences, which are only ~ 2 seconds long. In order to get a longer animation we take from the `expmtdata` directly. Alternatively one could do something like the following:\n",
    "\n",
    "```julia\n",
    "# Recall \n",
    "# * :all - return the concatentation of all training/validation/test data.\n",
    "# * :stl - return all the data for the chosen style ix (in this case 7)\n",
    "alldata7 = mocapio.get_data(expmtdata, 7, :all, :stl)\n",
    "c_U = alldata7[3][:U][:,1:500]       # 3rd file, 1:500 seq ixs\n",
    "c_Y_tf = alldata7[3][:Y][:,1:500]\n",
    "```"
   ]
  },
  {
   "cell_type": "code",
   "execution_count": 59,
   "metadata": {},
   "outputs": [],
   "source": [
    "file_ix = 3  # file_ix ∈ [1,..,31]\n",
    "c_U = this_expmtdata.Us[file_ix]\n",
    "c_Y_tf = this_expmtdata.Ys[file_ix]\n",
    "c_Urecon = mocaputil.invert(standardize_U, Matrix(c_U'));\n",
    "c_Yrecon = mocaputil.invert(standardize_Y, Matrix(c_Y_tf'));\n",
    "\n",
    "seq_ixs = 10:600  # which elements of the sequence to visualize\n",
    "c_path_fk = geom.fk_path(c_Yrecon, seq_ixs, file_offsets[file_ix,:]);"
   ]
  },
  {
   "cell_type": "markdown",
   "metadata": {},
   "source": [
    "## three.js visualization\n",
    "\n",
    "\n",
    "Now to actually perform the visualization. This relies on `three.js` and `MeshCat.jl`. The library code included above is my attempt to map a collection of circles and cylinders to construct a skeletal visualization within this environment. This is both not difficult and not trivial. While the original code works ok modulo 2-3 tweaks due to changes in MeshCat's API, unfortunately the angle of the cylinders (i.e. bones) is slightly off in each frame. I think this is just a minor bug in `mocapviz`, but tracking it down is a bit of a pain, so in the interests of time, the visualization is left with this known defect."
   ]
  },
  {
   "cell_type": "code",
   "execution_count": 16,
   "metadata": {
    "scrolled": true
   },
   "outputs": [
    {
     "name": "stderr",
     "output_type": "stream",
     "text": [
      "┌ Info: MeshCat server started. You can open the visualizer by visiting the following URL in your browser:\n",
      "│ http://127.0.0.1:8700\n",
      "└ @ MeshCat /home/alexbird/.julia/packages/MeshCat/GlCMx/src/visualizer.jl:73\n"
     ]
    },
    {
     "data": {
      "text/plain": [
       "Process(`\u001b[4mxdg-open\u001b[24m \u001b[4mhttp://127.0.0.1:8700\u001b[24m`, ProcessExited(0))"
      ]
     },
     "execution_count": 16,
     "metadata": {},
     "output_type": "execute_result"
    },
    {
     "name": "stdout",
     "output_type": "stream",
     "text": [
      "Opening in existing browser session.\n"
     ]
    }
   ],
   "source": [
    "# Open three.js visualization in browser if doesn't exist already\n",
    "!(@isdefined vis) && begin; vis = Visualizer(); open(vis); end"
   ]
  },
  {
   "cell_type": "code",
   "execution_count": 17,
   "metadata": {},
   "outputs": [
    {
     "data": {
      "text/plain": [
       "MeshCat Visualizer with path /meshcat at http://127.0.0.1:8700"
      ]
     },
     "execution_count": 17,
     "metadata": {},
     "output_type": "execute_result"
    }
   ],
   "source": [
    "vis = mocapviz.create_animation([geom.reconstruct_modelled(c_Yrecon[seq_ixs,:])], \n",
    "    \"test\"; vis=vis, linemesh=[mocapviz.yellowmesh], camera=:back, path = c_path_fk)"
   ]
  },
  {
   "cell_type": "markdown",
   "metadata": {},
   "source": [
    "---------------\n",
    "\n",
    "## Creating animations comparing model with ground truth\n",
    "\n",
    "Please train a model first (see README) and place the model artifact into a useful location. "
   ]
  },
  {
   "cell_type": "code",
   "execution_count": 18,
   "metadata": {},
   "outputs": [
    {
     "data": {
      "text/plain": [
       "PyObject <module 'forjulia' from '/home/alexbird/Documents/phd-work/pytorch-mtds-mocap/src/forjulia.py'>"
      ]
     },
     "execution_count": 18,
     "metadata": {},
     "output_type": "execute_result"
    }
   ],
   "source": [
    "using PyCall\n",
    "\n",
    "pysys = pyimport(\"sys\")\n",
    "pytorch = pyimport(\"torch\")\n",
    "pushfirst!(PyVector(pysys.\"path\"), normpath(pwd(), \"../src\"));\n",
    "pymt = pyimport(\"forjulia\") "
   ]
  },
  {
   "cell_type": "code",
   "execution_count": 38,
   "metadata": {},
   "outputs": [
    {
     "data": {
      "text/plain": [
       "data_ahead (generic function with 1 method)"
      ]
     },
     "execution_count": 38,
     "metadata": {},
     "output_type": "execute_result"
    }
   ],
   "source": [
    "function data_ahead(dataIters, start_ix, k_ahead)\n",
    "    \"\"\" Return a matrix of inputs and outputs for the next `k_ahead` steps from `start_ix`. \"\"\"\n",
    "    reduce(hcat, [dataIters[i][1] for i in start_ix+1:start_ix+k_ahead]),\n",
    "    reduce(hcat, [dataIters[i][2] for i in start_ix+1:start_ix+k_ahead])\n",
    "end"
   ]
  },
  {
   "cell_type": "markdown",
   "metadata": {},
   "source": [
    "#### Create Python Script args to instantiate the model"
   ]
  },
  {
   "cell_type": "code",
   "execution_count": 20,
   "metadata": {},
   "outputs": [],
   "source": [
    "base_args_ = Dict{String, Any}(\"seq_length_out\"=>64, \"decoder_size\"=>1024, \"batch_size\"=>16,\n",
    "            \"latent_k\"=>3,\n",
    "            \"human_size\"=>64, \n",
    "            \"input_size\"=>44,\n",
    "            \"style_ix\"=>style_ix,\n",
    "            \"use_cpu\"=>true, \n",
    "            \"data_dir\"=>\".\");\n",
    "\n",
    "# =========== LEAVE BELOW ALONE => FORMATTING FOR INPUT ARGS AND CMDLINE =================\n",
    "base_args = filter(x->!(x.second isa Bool) || x.second, base_args_)  # remove all \"false\" arguments (implicit)\n",
    "base_args = Dict(k=> (v isa Bool && v == true) ? \"\" : v for (k,v) in base_args)  # replace all \"true\" args\n",
    "base_args = [join([\"--\"*k, v], \" \") for (k,v) in base_args]   # format for cmdline\n",
    "base_args = filter(x->length(x)>0, reduce(vcat, split.(base_args, \" \")));  "
   ]
  },
  {
   "cell_type": "code",
   "execution_count": 26,
   "metadata": {},
   "outputs": [],
   "source": [
    "B_forward = 5  # number of 64-length windows of time => Note first is rm for inference.\n",
    "_bsz = 64      # number of batches\n",
    "\n",
    "# Define lengths needed for inputs/outputs (const wrt style_ix)\n",
    "_ysz = size(this_expmtdata.Ys[1], 1)\n",
    "_out_tt_len = B_forward*64\n",
    "\n",
    "# Load model\n",
    "load_args = copy(base_args)\n",
    "push!(load_args, \"--load\")\n",
    "push!(load_args, \"../experiments/model_2000\");  # <-- put model artifact here"
   ]
  },
  {
   "cell_type": "markdown",
   "metadata": {},
   "source": [
    "#### Create / load the model"
   ]
  },
  {
   "cell_type": "code",
   "execution_count": 27,
   "metadata": {},
   "outputs": [],
   "source": [
    "# Load specified model into memory\n",
    "load_args = pymt.parseopts.parse_args(load_args)\n",
    "load_args = pymt.parseopts.initial_arg_transform(load_args)\n",
    "mtorch = pymt.learn_mtfixbmodel.create_model(load_args, 850)\n",
    "mtorch.eval();"
   ]
  },
  {
   "cell_type": "markdown",
   "metadata": {},
   "source": [
    "#### Load in data from file 1...31 and decide which part to visualize"
   ]
  },
  {
   "cell_type": "code",
   "execution_count": 66,
   "metadata": {},
   "outputs": [],
   "source": [
    "file_ix = 3  # file_ix ∈ [1,..,31]\n",
    "c_U = this_expmtdata.Us[file_ix]\n",
    "c_Y_tf = this_expmtdata.Ys[file_ix]\n",
    "c_Urecon = mocaputil.invert(standardize_U, Matrix(c_U'));\n",
    "c_Yrecon = mocaputil.invert(standardize_Y, Matrix(c_Y_tf'));\n",
    "\n",
    "seq_ixs = 10:600  # which elements of the sequence to visualize\n",
    "c_path_fk = geom.fk_path(c_Yrecon, seq_ixs, file_offsets[file_ix,:]);"
   ]
  },
  {
   "cell_type": "code",
   "execution_count": 67,
   "metadata": {},
   "outputs": [],
   "source": [
    "trainPool, validPool, testPool = expmtdata.get_data(this_expmtdata, style_ix, :split, :pooled)\n",
    "testIter = mocaputil.DataIterator(testPool, 64, min_size=63);\n",
    "testIters = collect(testIter);\n",
    "_batch_nums = Int.(round.(range(2, stop=length(testIter)-B_forward, length=_bsz)))\n",
    "batch_data = map(1:_bsz) do i\n",
    "    data_ahead(testIters, _batch_nums[i], B_forward)\n",
    "end;"
   ]
  },
  {
   "cell_type": "code",
   "execution_count": 68,
   "metadata": {},
   "outputs": [],
   "source": [
    "_Yb, _Ub = [batch_data[i][1] for i in 1:_bsz], [batch_data[i][2] for i in 1:_bsz]\n",
    "decoder_outputs = zeros(Float32, _bsz, _out_tt_len, _ysz) * NaN\n",
    "for i in 1:_bsz\n",
    "    decoder_outputs[i,1:size(_Yb[i],2),:] = transpose(_Yb[i])\n",
    "end"
   ]
  },
  {
   "cell_type": "markdown",
   "metadata": {},
   "source": [
    "#### (If desired) load the posterior from the AdaIS procedure (performed offline)"
   ]
  },
  {
   "cell_type": "code",
   "execution_count": 131,
   "metadata": {},
   "outputs": [],
   "source": [
    "# Setup\n",
    "USE_RANDOM_POSTERIOR = true\n",
    "if !USE_RANDOM_POSTERIOR\n",
    "    post = BSON.load(format(\"experiments/mtds-posterior/mocap_posterior_smp_{:d}.bson\", style_ix))[:results]\n",
    "    _zmu = [post[:Z][:, argmax(post[:weights][i,:])] for i in 1:_bsz]\n",
    "else\n",
    "    # some kind of approximation of true z without doing much work\n",
    "    _zmu = [mtorch.mt_net.Z_mu[i].data.numpy() for i in _batch_nums]\n",
    "end;"
   ]
  },
  {
   "cell_type": "code",
   "execution_count": 132,
   "metadata": {},
   "outputs": [],
   "source": [
    "# Predict\n",
    "# This takes a few seconds - I suspect some mismatch of CPU vs GPU\n",
    "ŷ = ones(_bsz, _out_tt_len, _ysz-3) * NaN\n",
    "@pywith pytorch.no_grad() begin\n",
    "    for i in 1:_bsz\n",
    "        out = mtorch.forward(\n",
    "            pytorch.tensor(reshape(_Ub[i]', 1, :, 35)), \n",
    "            pytorch.tensor(_zmu[i]).float(), \n",
    "            pytorch.ones(1,length(_zmu[i]))*1f-5\n",
    "        )[1].numpy()[1,:,:]\n",
    "        ŷ[i,1:size(out,1), :] = out\n",
    "    end\n",
    "end"
   ]
  },
  {
   "cell_type": "markdown",
   "metadata": {},
   "source": [
    "# Calculate MSE"
   ]
  },
  {
   "cell_type": "code",
   "execution_count": 88,
   "metadata": {},
   "outputs": [],
   "source": [
    "using ArgCheck"
   ]
  },
  {
   "cell_type": "code",
   "execution_count": 89,
   "metadata": {},
   "outputs": [
    {
     "data": {
      "text/plain": [
       "nanvar3d (generic function with 1 method)"
      ]
     },
     "execution_count": 89,
     "metadata": {},
     "output_type": "execute_result"
    }
   ],
   "source": [
    "function nanmean3d(x::Array{T, 3}; keepdim=nothing, shape=false) where T\n",
    "    @argcheck keepdim isa Int\n",
    "    d = ndims(x)\n",
    "    N = size(x, keepdim)\n",
    "    out = Vector{T}(undef, N)\n",
    "    for i = 1:N\n",
    "        xi = view(x, repeat([:], keepdim-1)..., i,  repeat([:], d-keepdim)...)\n",
    "        c_nans = isnan.(xi)\n",
    "        if !any(c_nans)\n",
    "            out[i] = mean(xi)\n",
    "        else\n",
    "            xi = vec(convert(Array{Union{T, Missing}}, xi))\n",
    "            xi[vec(c_nans)] .= missing\n",
    "            out[i] = mean(skipmissing(xi))\n",
    "        end\n",
    "    end\n",
    "    return shape ? reshape(out, repeat([1], keepdim-1)..., N,  repeat([1], d-keepdim)...) : out\n",
    "end\n",
    "\n",
    "nanvar3d(x; keepdim=nothing) = let μ=nanmean3d(x; keepdim=keepdim, shape=true);\n",
    "    nanmean3d((x.-μ).^2; keepdim=keepdim); end"
   ]
  },
  {
   "cell_type": "code",
   "execution_count": 138,
   "metadata": {},
   "outputs": [],
   "source": [
    "c_Urecon = mocaputil.invert(standardize_U, Matrix(_Ub[1]'));\n",
    "c_Yrecon = mocaputil.invert(standardize_Y, Matrix(decoder_outputs[1,:,:]'));\n",
    "\n",
    "seq_ixs = 10:600  # which elements of the sequence to visualize\n",
    "c_path_fk = geom.fk_path(c_Yrecon, seq_ixs, file_offsets[file_ix,:]);\n",
    "\n",
    "vis = mocapviz.create_animation([geom.reconstruct_modelled(c_Yrecon[seq_ixs,:])], \n",
    "    \"test\"; vis=vis, linemesh=[mocapviz.yellowmesh], camera=:back, path = c_path_fk)"
   ]
  },
  {
   "cell_type": "code",
   "execution_count": 133,
   "metadata": {},
   "outputs": [
    {
     "data": {
      "text/plain": [
       "320×64 Matrix{Float64}:\n",
       "  0.122771   -0.680333    1.37409    …   0.0899163   -0.731159  -0.382056\n",
       "  0.152403   -0.694876    1.77765        0.183065    -0.986595  -1.01328\n",
       "  0.140337   -0.815058    1.90975        0.234245    -0.944276  -1.42149\n",
       "  0.0898092  -0.792701    2.08249        0.407726    -0.925521  -1.3006\n",
       "  0.0852464  -0.803061    2.20106        0.46735     -1.05107   -1.18134\n",
       "  0.0653092  -0.735599    2.21358    …   0.503071    -1.16358   -1.10996\n",
       "  0.0644076  -0.62632     2.17156        0.518821    -1.27735   -0.988469\n",
       "  0.0825186  -0.52484     2.15569        0.473478    -1.38612   -0.870152\n",
       "  0.0959204  -0.406761    2.18354        0.433927    -1.49556   -0.755182\n",
       "  0.0954399  -0.31866     2.19385        0.415714    -1.59797   -0.606641\n",
       "  0.0904582  -0.273699    2.13945    …   0.410899    -1.60452   -0.397441\n",
       "  0.0908938  -0.225447    2.06386        0.379541    -1.45482   -0.154026\n",
       "  0.0820392  -0.16726     2.00939        0.289815    -1.15513    0.065255\n",
       "  ⋮                                  ⋱                          \n",
       "  0.159653   -0.768694   -0.844592       0.0786903   -1.24617   -1.52063\n",
       "  0.0190866   0.94041    -0.442445       0.00133694  -1.13932   -1.58451\n",
       " -0.0323204   0.860295   -0.181336   …   0.0796491   -1.03127   -1.65164\n",
       " -0.0093809   0.289275   -0.0579201      0.195479    -1.07047   -1.77431\n",
       "  0.0247917  -0.0727492   0.011315       0.290089    -1.14513   -1.81281\n",
       "  0.0671162  -0.244576    0.130183       0.366435    -1.14829   -1.74143\n",
       "  0.106263   -0.305364    0.286933       0.385844    -1.15816   -1.59686\n",
       "  0.122994   -0.315977    0.443599   …   0.360935    -1.1951    -1.35693\n",
       "  0.112841   -0.302882    0.582337       0.308629    -1.19487   -0.988361\n",
       "  0.0879981  -0.270275    0.702706       0.225872    -1.08847   -0.524898\n",
       "  0.0603288  -0.229615    0.807336       0.101215    -0.88683   -0.1007\n",
       "  0.0287692  -0.206676    0.924174      -0.0363134   -0.675728   0.151071"
      ]
     },
     "execution_count": 133,
     "metadata": {},
     "output_type": "execute_result"
    }
   ],
   "source": [
    "ŷ[1,:,:]"
   ]
  },
  {
   "cell_type": "code",
   "execution_count": 137,
   "metadata": {},
   "outputs": [
    {
     "data": {
      "image/png": "[encoded data removed]",
      "text/plain": [
       "Figure(PyObject <Figure size 640x480 with 1 Axes>)"
      ]
     },
     "metadata": {},
     "output_type": "display_data"
    },
    {
     "data": {
      "text/plain": [
       "PyObject <matplotlib.collections.PathCollection object at 0x7f22dc8f0310>"
      ]
     },
     "execution_count": 137,
     "metadata": {},
     "output_type": "execute_result"
    }
   ],
   "source": [
    "scatter(decoder_outputs[1,:,20], ŷ[1,:,20])"
   ]
  },
  {
   "cell_type": "code",
   "execution_count": 136,
   "metadata": {},
   "outputs": [
    {
     "data": {
      "text/plain": [
       "320-element Vector{Float64}:\n",
       " 1.1695721967619723\n",
       " 1.2766793064514146\n",
       " 1.3898763883828167\n",
       " 1.462883272199958\n",
       " 1.499032856267936\n",
       " 1.4737425032195681\n",
       " 1.4517213954984511\n",
       " 1.4292901950490873\n",
       " 1.4167334660139548\n",
       " 1.413601923452304\n",
       " 1.4113729832256239\n",
       " 1.374375428995455\n",
       " 1.3657532412304005\n",
       " ⋮\n",
       " 1.6445290914241535\n",
       " 1.5859938237947162\n",
       " 1.533158559294544\n",
       " 1.516267971702951\n",
       " 1.5003160504502147\n",
       " 1.490523845392924\n",
       " 1.5040035340168934\n",
       " 1.5123403528839794\n",
       " 1.5628332062457988\n",
       " 1.5695385117854297\n",
       " 1.5539659963296613\n",
       " 1.5417978359388118"
      ]
     },
     "execution_count": 136,
     "metadata": {},
     "output_type": "execute_result"
    }
   ],
   "source": [
    "nanmean3d((ŷ - decoder_outputs[:,:,4:end]).^2, keepdim=2)"
   ]
  },
  {
   "cell_type": "markdown",
   "metadata": {},
   "source": [
    "## From disk"
   ]
  },
  {
   "cell_type": "code",
   "execution_count": 139,
   "metadata": {},
   "outputs": [],
   "source": [
    "file_ix = 3  # file_ix ∈ [1,..,31]\n",
    "c_U = this_expmtdata.Us[file_ix]\n",
    "c_Y_tf = this_expmtdata.Ys[file_ix]\n",
    "c_Urecon = mocaputil.invert(standardize_U, Matrix(c_U'));\n",
    "c_Yrecon = mocaputil.invert(standardize_Y, Matrix(c_Y_tf'));\n",
    "\n",
    "seq_ixs = 10:600  # which elements of the sequence to visualize\n",
    "c_path_fk = geom.fk_path(c_Yrecon, seq_ixs, file_offsets[file_ix,:]);"
   ]
  },
  {
   "cell_type": "code",
   "execution_count": 140,
   "metadata": {},
   "outputs": [
    {
     "data": {
      "text/plain": [
       "(67, 1328)"
      ]
     },
     "execution_count": 140,
     "metadata": {},
     "output_type": "execute_result"
    }
   ],
   "source": [
    "size(c_Y_tf)"
   ]
  },
  {
   "cell_type": "code",
   "execution_count": 144,
   "metadata": {},
   "outputs": [],
   "source": [
    "decoder_outputs = zeros(Float32, 1, 200, 64) * NaN\n",
    "decoder_outputs[1,:,:] = transpose(c_Y_tf[4:end, 1:200]);"
   ]
  },
  {
   "cell_type": "code",
   "execution_count": 146,
   "metadata": {},
   "outputs": [],
   "source": [
    "# Setup\n",
    "USE_RANDOM_POSTERIOR = true\n",
    "if !USE_RANDOM_POSTERIOR\n",
    "    post = BSON.load(format(\"experiments/mtds-posterior/mocap_posterior_smp_{:d}.bson\", style_ix))[:results]\n",
    "    _zmu = [post[:Z][:, argmax(post[:weights][i,:])] for i in 1:_bsz]\n",
    "else\n",
    "    # some kind of approximation of true z without doing much work\n",
    "    _zmu = mtorch.mt_net.Z_mu[Int(round(963*file_ix/31))].data.numpy()\n",
    "end;"
   ]
  },
  {
   "cell_type": "code",
   "execution_count": 150,
   "metadata": {},
   "outputs": [],
   "source": [
    "# Predict\n",
    "ŷ = ones(1, 200, 64) * NaN\n",
    "@pywith pytorch.no_grad() begin\n",
    "    out = mtorch.forward(\n",
    "        pytorch.tensor(reshape(c_U[:,1:200]', 1, :, 35)), \n",
    "        pytorch.tensor(_zmu).float(), \n",
    "        pytorch.ones(1,length(_zmu))*1f-5\n",
    "    )[1].numpy()[1,:,:]\n",
    "    ŷ[1,1:size(out,1), :] = out\n",
    "end"
   ]
  },
  {
   "cell_type": "code",
   "execution_count": 154,
   "metadata": {},
   "outputs": [
    {
     "data": {
      "text/plain": [
       "200×64 Matrix{Float64}:\n",
       "  0.0896823    1.38527    0.481604  …  -0.547377    -0.441469  -0.741591\n",
       "  0.0449977    1.16729    0.689607     -0.831465    -0.578371  -1.53033\n",
       "  0.0679289    0.922919   0.78615      -0.645579    -0.61758   -1.58304\n",
       "  0.130968     1.09213    0.945186     -0.546946    -0.76753   -1.42851\n",
       "  0.055144     1.17568    1.03791      -0.578748    -0.950561  -1.28678\n",
       "  0.00953763   1.2229     1.10144   …  -0.561461    -1.1008    -1.04954\n",
       " -0.00101126   1.20249    1.18199      -0.48951     -1.16568   -0.747025\n",
       "  0.0130337    1.1184     1.28287      -0.366063    -1.13444   -0.440104\n",
       "  0.0297299    1.01023    1.38957      -0.21807     -1.03659   -0.168959\n",
       "  0.00810977   0.926033   1.49604      -0.0984425   -0.944374   0.0700894\n",
       " -0.0248561    0.826656   1.5927    …  -0.0563712   -0.80729    0.285037\n",
       " -0.0364474    0.739374   1.67893      -0.0436279   -0.641986   0.464508\n",
       " -0.00552621   0.686139   1.7503        0.0405405   -0.477227   0.599065\n",
       "  ⋮                                 ⋱                          \n",
       "  0.024259    -0.187314   2.15611      -0.152245    -0.646018  -0.211995\n",
       "  0.0297765   -0.219553   2.14685      -0.138297    -0.433538  -0.104821\n",
       "  0.0468365   -0.218312   2.12856   …  -0.0289719   -0.263852  -0.0535466\n",
       "  0.0516615   -0.197295   2.1122        0.111895    -0.198658  -0.0814745\n",
       "  0.0258876   -0.224009   2.08442       0.160858    -0.257298  -0.208957\n",
       " -0.00807181  -0.313458   2.03931       0.142382    -0.422465  -0.379068\n",
       " -0.00110333  -0.345774   2.01704       0.10429     -0.648339  -0.526968\n",
       "  0.0303939   -0.217008   2.01603   …  -0.00912679  -0.873535  -0.620385\n",
       "  0.037351    -0.0777286  1.99448      -0.154295    -1.05566   -0.729709\n",
       "  0.0186391   -0.0057052  1.93348      -0.275953    -1.13068   -0.865358\n",
       " -0.0164259    0.0226671  1.83118      -0.327068    -1.0758    -0.964478\n",
       " -0.0729104    0.0499986  1.69122      -0.314808    -0.970529  -1.09063"
      ]
     },
     "execution_count": 154,
     "metadata": {},
     "output_type": "execute_result"
    }
   ],
   "source": [
    "ŷ[1,:,:]"
   ]
  },
  {
   "cell_type": "code",
   "execution_count": 153,
   "metadata": {},
   "outputs": [
    {
     "data": {
      "text/plain": [
       "200×64 Matrix{Float64}:\n",
       " -0.0487285  -0.737807    0.316813    …   0.118871    -0.898207  -1.15777\n",
       " -0.0474629  -0.560248    1.54523         0.0442628   -0.886074  -1.46539\n",
       " -0.0460126  -0.352463    2.58352         0.00809169  -0.826761  -1.75923\n",
       " -0.0444812  -0.265161    1.53976         0.0129285   -0.784682  -1.95503\n",
       " -0.0429457  -0.205705    0.61657         0.0279358   -0.806297  -1.96008\n",
       " -0.0414666  -0.269267    0.156975    …   0.0229259   -0.865694  -1.81751\n",
       " -0.041746   -0.0784839   0.00810159     -0.00543952  -0.90598   -1.60765\n",
       " -0.0435954  -0.0638821  -0.319715       -0.0553952   -0.900904  -1.39877\n",
       " -0.0453086  -0.15318    -0.663726       -0.103341    -0.883408  -1.21351\n",
       " -0.0469486  -0.337367   -0.728069       -0.158646    -0.88251   -1.01564\n",
       " -0.0485685  -0.510189   -0.629668    …  -0.185388    -0.906394  -0.7661\n",
       " -0.0502112  -0.531286   -0.743063       -0.144238    -0.916253  -0.401913\n",
       " -0.0519087  -0.574651   -0.617639       -0.0153624   -0.809446   0.0629244\n",
       "  ⋮                                   ⋱                          \n",
       " -0.0541602  -0.283259   -0.266604       -0.125856    -0.451474  -0.0530618\n",
       " -0.056031   -0.434569    0.175123       -0.087599    -0.221597   0.165016\n",
       " -0.0581325  -0.603328    0.812475    …  -0.0883764   -0.197884   0.224129\n",
       " -0.060455   -0.690864    1.85875        -0.132848    -0.441646   0.0905187\n",
       " -0.0629889  -0.818259    2.63356        -0.18548     -0.795785  -0.239361\n",
       " -0.065724   -0.795802    1.63705        -0.189015    -1.10589   -0.719227\n",
       " -0.0686497  -0.838958    0.852467       -0.123492    -1.28282   -1.22825\n",
       " -0.0717536  -0.944356   -0.160085    …  -0.0121965   -1.298     -1.64839\n",
       " -0.0750189  -1.06663    -0.945129        0.0752949   -1.25597   -1.85325\n",
       " -0.0784213  -1.42817    -1.5044          0.116911    -1.19253   -1.89303\n",
       " -0.0819236  -1.8222     -1.9169          0.130058    -1.11288   -1.85747\n",
       " -0.0854699  -2.15833    -1.93767         0.105664    -1.03385   -1.77363"
      ]
     },
     "execution_count": 153,
     "metadata": {},
     "output_type": "execute_result"
    }
   ],
   "source": [
    "decoder_outputs[1, :, :]"
   ]
  }
 ],
 "metadata": {
  "kernelspec": {
   "display_name": "Julia 1.6.2",
   "language": "julia",
   "name": "julia-1.6"
  },
  "language_info": {
   "file_extension": ".jl",
   "mimetype": "application/julia",
   "name": "julia",
   "version": "1.6.2"
  }
 },
 "nbformat": 4,
 "nbformat_minor": 4
}
